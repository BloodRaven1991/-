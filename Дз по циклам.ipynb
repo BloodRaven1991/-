{
 "cells": [
  {
   "cell_type": "markdown",
   "metadata": {},
   "source": [
    "1. Числа Фибоначчи: Напишите программу, которая выводит первые 50 чисел Фибоначчи. Напоминаем, что ряд Фибоначчи начинается с чисел 0 и 1, а каждое последующее число равно сумме двух предыдущих."
   ]
  },
  {
   "cell_type": "code",
   "execution_count": 2,
   "metadata": {},
   "outputs": [
    {
     "name": "stdout",
     "output_type": "stream",
     "text": [
      "[0, 1, 1, 2, 3, 5, 8, 13, 21, 34, 55, 89, 144, 233, 377, 610, 987, 1597, 2584, 4181, 6765, 10946, 17711, 28657, 46368, 75025, 121393, 196418, 317811, 514229, 832040, 1346269, 2178309, 3524578, 5702887, 9227465, 14930352, 24157817, 39088169, 63245986, 102334155, 165580141, 267914296, 433494437, 701408733, 1134903170, 1836311903, 2971215073, 4807526976, 7778742049]\n"
     ]
    }
   ],
   "source": [
    "def fibonacci(n):\n",
    "    fib_50 = []\n",
    "    a, b = 0, 1\n",
    "    for _ in range(n):\n",
    "        fib_50.append(a)\n",
    "        a, b = b, a + b\n",
    "    return fib_50\n",
    "\n",
    "first_50_fib = fibonacci(50)\n",
    "print(first_50_fib)"
   ]
  },
  {
   "cell_type": "markdown",
   "metadata": {},
   "source": [
    "2. Сумма цифр: Напишите программу, которая принимает на вход натуральное число и вычисляет сумму его цифр."
   ]
  },
  {
   "cell_type": "code",
   "execution_count": 3,
   "metadata": {},
   "outputs": [
    {
     "name": "stdout",
     "output_type": "stream",
     "text": [
      "Сумма цифр числа: 7\n"
     ]
    }
   ],
   "source": [
    "def sum_of_digits(n):\n",
    "    total = 0\n",
    "    while n > 0:\n",
    "        total += n % 10\n",
    "        n //= 10\n",
    "    return total\n",
    "\n",
    "number = int(input(\"Введите натуральное число: \"))\n",
    "result = sum_of_digits(number)\n",
    "print(\"Сумма цифр числа:\", result)"
   ]
  },
  {
   "cell_type": "markdown",
   "metadata": {},
   "source": [
    "3. Игра \"Угадай число\": Напишите программу, которая \"загадывает\" случайное число от 1 до 100 и предлагает пользователю его угадать. После каждого ввода числа программа должна сообщать, больше загаданное число, меньше или равно. Игра продолжается, пока пользователь не угадает число. В конце игры программа должна вывести количество попыток."
   ]
  },
  {
   "cell_type": "code",
   "execution_count": 4,
   "metadata": {},
   "outputs": [
    {
     "name": "stdout",
     "output_type": "stream",
     "text": [
      "Я загадал число от 1 до 100. Попробуйте угадать его!\n",
      "Не угадали, число меньше.\n",
      "Ура! Вы угадали число 50 за 2 попыток.\n"
     ]
    }
   ],
   "source": [
    "import random\n",
    "\n",
    "def guess_the_number():\n",
    "    secret_number = random.randint(1, 100)\n",
    "    attempts = 0\n",
    "\n",
    "    print(\"Я загадал число от 1 до 100. Попробуйте угадать его!\")\n",
    "\n",
    "    while True:\n",
    "        user_guess = int(input(\"Введите ваше предположение: \"))\n",
    "        attempts += 1\n",
    "\n",
    "        if user_guess < secret_number:\n",
    "            print(\"Не угадали, число больше.\")\n",
    "        elif user_guess > secret_number:\n",
    "            print(\"Не угадали, число меньше.\")\n",
    "        else:\n",
    "            print(f\"Ура! Вы угадали число {secret_number} за {attempts} попыток.\")\n",
    "            break\n",
    "\n",
    "guess_the_number()"
   ]
  },
  {
   "cell_type": "markdown",
   "metadata": {},
   "source": [
    "4. Звездочки: Напишите программу, которая рисует прямоугольник из звездочек, используя циклы. Пользователь вводит высоту и ширину прямоугольника."
   ]
  },
  {
   "cell_type": "code",
   "execution_count": 6,
   "metadata": {},
   "outputs": [
    {
     "name": "stdout",
     "output_type": "stream",
     "text": [
      "* * * * * * * * * \n",
      "* * * * * * * * * \n",
      "* * * * * * * * * \n",
      "* * * * * * * * * \n"
     ]
    }
   ],
   "source": [
    "height = int(input(\"Введите высоту прямоугольника: \"))\n",
    "width = int(input(\"Введите ширину прямоугольника: \"))\n",
    "\n",
    "for i in range(height):\n",
    "    for j in range(width):\n",
    "        print('*', end=' ')\n",
    "    print()"
   ]
  },
  {
   "cell_type": "markdown",
   "metadata": {},
   "source": [
    "5. Факториал: Напишите программу, которая вычисляет факториал заданного пользователем числа. Факториал числа n (обозначается n!) — это произведение всех натуральных чисел от 1 до n. Использовать функцию factorial() из библиотеки math запрещается!"
   ]
  },
  {
   "cell_type": "code",
   "execution_count": 8,
   "metadata": {},
   "outputs": [
    {
     "name": "stdout",
     "output_type": "stream",
     "text": [
      "Факториал числа 9 равен 362880.\n"
     ]
    }
   ],
   "source": [
    "n = int(input(\"Введит натуральное число для вычисления факториала: \"))\n",
    "\n",
    "factorial = 1\n",
    "\n",
    "if n < 0:\n",
    "    print(\"Факториал отрицательного числа не существует.\")\n",
    "else:\n",
    "    for i in range(1, n + 1):\n",
    "        factorial *= i\n",
    "    print(f\"Факториал числа {n} равен {factorial}.\")"
   ]
  }
 ],
 "metadata": {
  "kernelspec": {
   "display_name": "Python 3",
   "language": "python",
   "name": "python3"
  },
  "language_info": {
   "codemirror_mode": {
    "name": "ipython",
    "version": 3
   },
   "file_extension": ".py",
   "mimetype": "text/x-python",
   "name": "python",
   "nbconvert_exporter": "python",
   "pygments_lexer": "ipython3",
   "version": "3.12.6"
  }
 },
 "nbformat": 4,
 "nbformat_minor": 2
}
